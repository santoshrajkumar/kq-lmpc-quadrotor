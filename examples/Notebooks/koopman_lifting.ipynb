{
  "nbformat": 4,
  "nbformat_minor": 0,
  "metadata": {
    "colab": {
      "provenance": []
    },
    "kernelspec": {
      "name": "python3",
      "display_name": "Python 3"
    },
    "language_info": {
      "name": "python"
    }
  },
  "cells": [
    {
      "cell_type": "markdown",
      "source": [
        "# **Koopman Lifting Example**"
      ],
      "metadata": {
        "id": "5ACiWe_mEd0Q"
      }
    },
    {
      "cell_type": "code",
      "source": [
        "from kq_lmpc_quadrotor import KoopmanLift\n",
        "import numpy as np"
      ],
      "metadata": {
        "id": "0Ncgtru0Ejkk"
      },
      "execution_count": 3,
      "outputs": []
    },
    {
      "cell_type": "markdown",
      "source": [
        "Enter parameters of the quadrotor in the following format"
      ],
      "metadata": {
        "id": "SvbcYeoAFAZu"
      }
    },
    {
      "cell_type": "code",
      "source": [
        "Ixx = 0.002354405654  # kg-m^2\n",
        "Iyy = 0.002629495468\n",
        "Izz = 0.003186782158\n",
        "x_rot = 0.175 / 2\n",
        "y_rot = 0.131 / 2\n",
        "\n",
        "params = {\n",
        "                'mass': 0.904,  # kg\n",
        "                \"J\": np.diag([Ixx, Iyy, Izz]),\n",
        "                \"d\": np.sqrt(x_rot**2 + y_rot**2),\n",
        "                \"k_eta\": 0.0000007949116377,\n",
        "                \"c_tau\": 1.969658853113417e-8,\n",
        "                \"wr_max\": 2500,\n",
        "                \"g\": 9.81,  # gravity\n",
        "                \"e3\": np.array([0, 0, 1]).reshape(-1,1)\n",
        "            }"
      ],
      "metadata": {
        "id": "javn2UZDFKmV"
      },
      "execution_count": 5,
      "outputs": []
    },
    {
      "cell_type": "markdown",
      "source": [
        "Initialize Koopmanlift"
      ],
      "metadata": {
        "id": "8zmmPYXEFsVk"
      }
    },
    {
      "cell_type": "code",
      "source": [
        "M, N = 3, 2 ## refere to the paper on what are M,N\n",
        "koop = KoopmanLift(params, M, N)"
      ],
      "metadata": {
        "id": "gXpKfmpAFdQh"
      },
      "execution_count": 7,
      "outputs": []
    },
    {
      "cell_type": "markdown",
      "source": [
        "Gnereate a random 18D state vector"
      ],
      "metadata": {
        "id": "ECgJpBquF-9P"
      }
    },
    {
      "cell_type": "code",
      "source": [
        "from kq_lmpc_quadrotor import rand_state\n",
        "x = rand_state()\n",
        "print(x)"
      ],
      "metadata": {
        "colab": {
          "base_uri": "https://localhost:8080/"
        },
        "id": "jXW76tnKF3LV",
        "outputId": "d657e4cb-1819-4e8f-cc13-71598fbdb5f1"
      },
      "execution_count": 8,
      "outputs": [
        {
          "output_type": "stream",
          "name": "stdout",
          "text": [
            "[[ 0.52399579]\n",
            " [ 0.17084951]\n",
            " [ 0.78652237]\n",
            " [-0.38085563]\n",
            " [ 0.48635275]\n",
            " [ 0.32625563]\n",
            " [ 0.98886297]\n",
            " [-0.12158454]\n",
            " [ 0.08583255]\n",
            " [ 0.13234437]\n",
            " [ 0.9821826 ]\n",
            " [-0.13342528]\n",
            " [-0.06808078]\n",
            " [ 0.14329878]\n",
            " [ 0.98733503]\n",
            " [ 0.00680548]\n",
            " [-0.0092032 ]\n",
            " [-0.00923828]]\n"
          ]
        }
      ]
    },
    {
      "cell_type": "markdown",
      "source": [
        "Koopman lifting of x"
      ],
      "metadata": {
        "id": "eYZNlZqNGNzI"
      }
    },
    {
      "cell_type": "code",
      "source": [
        "X = koop.fcn_gen_koopman_states_se3(x)\n",
        "print(X.shape)\n",
        "\n",
        "## Let's recover x from X\n",
        "\n",
        "x_reco = koop.fcn_se3_states_to_actual(X)\n",
        "print(x_reco)"
      ],
      "metadata": {
        "colab": {
          "base_uri": "https://localhost:8080/"
        },
        "id": "MGdIz_mxGTkS",
        "outputId": "80f79c28-1319-4ad0-bd35-f511b818aa5c"
      },
      "execution_count": 10,
      "outputs": [
        {
          "output_type": "stream",
          "name": "stdout",
          "text": [
            "(45, 1)\n",
            "[[ 0.52399579]\n",
            " [ 0.17084951]\n",
            " [ 0.78652237]\n",
            " [-0.38085563]\n",
            " [ 0.48635275]\n",
            " [ 0.32625563]\n",
            " [ 0.98886297]\n",
            " [-0.12158454]\n",
            " [ 0.08583255]\n",
            " [ 0.13234437]\n",
            " [ 0.9821826 ]\n",
            " [-0.13342528]\n",
            " [-0.06808078]\n",
            " [ 0.14329878]\n",
            " [ 0.98733503]\n",
            " [ 0.00680548]\n",
            " [-0.0092032 ]\n",
            " [-0.00923828]]\n"
          ]
        }
      ]
    },
    {
      "cell_type": "markdown",
      "source": [
        "You can also fetch the paramters used in the paper"
      ],
      "metadata": {
        "id": "xTEOC5jdGzMX"
      }
    },
    {
      "cell_type": "code",
      "source": [
        "from kq_lmpc_quadrotor import UtilsFunctions\n",
        "utilsf = UtilsFunctions()\n",
        "params,_,_ = utilsf.get_quad_params()\n",
        "print(params)"
      ],
      "metadata": {
        "colab": {
          "base_uri": "https://localhost:8080/"
        },
        "id": "Mgm1xtRNGvr9",
        "outputId": "0a925a34-3d35-4889-c374-ebd681a7e0e1"
      },
      "execution_count": 11,
      "outputs": [
        {
          "output_type": "stream",
          "name": "stdout",
          "text": [
            "No input parameters provided ::: using default values..\n",
            "\t M = 3, N = 3\n",
            "{'mass': 0.904, 'J': array([[0.00235441, 0.        , 0.        ],\n",
            "       [0.        , 0.0026295 , 0.        ],\n",
            "       [0.        , 0.        , 0.00318678]]), 'd': np.float64(0.10930004574564459), 'k_eta': 7.949116377e-07, 'c_tau': 1.969658853113417e-08, 'wr_max': 2500, 'g': 9.81, 'e3': array([[0],\n",
            "       [0],\n",
            "       [1]])}\n"
          ]
        }
      ]
    },
    {
      "cell_type": "markdown",
      "source": [
        "## LTI Formulation"
      ],
      "metadata": {
        "id": "km0VMgmoHPn2"
      }
    },
    {
      "cell_type": "code",
      "source": [
        "# Get A , and B (Bbar) LTI matrices\n",
        "A = koop.fcn_A_lifted()\n",
        "B = koop.fcn_Bbar()\n",
        "\n",
        "print(A.shape)\n",
        "print(B.shape)"
      ],
      "metadata": {
        "colab": {
          "base_uri": "https://localhost:8080/"
        },
        "id": "m1pcgir5HXf2",
        "outputId": "c941de44-6643-43e1-c325-29875c844e1c"
      },
      "execution_count": 12,
      "outputs": [
        {
          "output_type": "stream",
          "name": "stdout",
          "text": [
            "(45, 45)\n",
            "(45, 28)\n"
          ]
        }
      ]
    },
    {
      "cell_type": "code",
      "source": [
        "# Lifted control U\n",
        "u = np.array([10, 0.1,0.1,0.1]) # consider a 4D control\n",
        "U = koop.fcn_u2U(x,u)\n",
        "print(U.shape)"
      ],
      "metadata": {
        "colab": {
          "base_uri": "https://localhost:8080/"
        },
        "id": "PNw_IP69HnvV",
        "outputId": "3cfc2bfb-a97e-41ea-bc70-9fec4d4ebe84"
      },
      "execution_count": 15,
      "outputs": [
        {
          "output_type": "stream",
          "name": "stdout",
          "text": [
            "(28, 1)\n"
          ]
        }
      ]
    },
    {
      "cell_type": "code",
      "source": [
        "# Recover u from U\n",
        "u_reco = koop.fcn_U2u(x,U)\n",
        "print(u_reco)"
      ],
      "metadata": {
        "colab": {
          "base_uri": "https://localhost:8080/"
        },
        "id": "JWMi7Ix5H8Wh",
        "outputId": "aa7d7174-3480-429d-eba9-2a7c5a174d25"
      },
      "execution_count": 16,
      "outputs": [
        {
          "output_type": "stream",
          "name": "stdout",
          "text": [
            "[[10. ]\n",
            " [ 0.1]\n",
            " [ 0.1]\n",
            " [ 0.1]]\n"
          ]
        }
      ]
    },
    {
      "cell_type": "markdown",
      "source": [
        "## Quasil-linear (LPV) formulation"
      ],
      "metadata": {
        "id": "0P9eWTHFIIsG"
      }
    },
    {
      "cell_type": "code",
      "source": [
        "# A matrix is the same\n",
        "# Construct the state dependent B (calB) matrix\n",
        "calB = koop.fcn_calB(x)\n",
        "print(calB.shape)"
      ],
      "metadata": {
        "colab": {
          "base_uri": "https://localhost:8080/"
        },
        "id": "TqSa9BSCIH3I",
        "outputId": "2baab821-d054-4b5a-9077-abda771d5bae"
      },
      "execution_count": 17,
      "outputs": [
        {
          "output_type": "stream",
          "name": "stdout",
          "text": [
            "(45, 4)\n"
          ]
        }
      ]
    },
    {
      "cell_type": "code",
      "source": [
        "# construct the modified control u_tilde\n",
        "u_tilde = koop.fcn_u2u_tilde(x,u)"
      ],
      "metadata": {
        "id": "lCklWUZRIbJi"
      },
      "execution_count": 18,
      "outputs": []
    },
    {
      "cell_type": "code",
      "source": [
        "# recover u from u_tilde\n",
        "u_reco2 = koop.fcn_u_tilde2u(x,u_tilde)\n",
        "print(u_reco2)"
      ],
      "metadata": {
        "colab": {
          "base_uri": "https://localhost:8080/"
        },
        "id": "4vGbBHTKIlPh",
        "outputId": "67350e4e-2903-4e0f-a0c2-4389874d19fc"
      },
      "execution_count": 19,
      "outputs": [
        {
          "output_type": "stream",
          "name": "stdout",
          "text": [
            "[[10. ]\n",
            " [ 0.1]\n",
            " [ 0.1]\n",
            " [ 0.1]]\n"
          ]
        }
      ]
    },
    {
      "cell_type": "markdown",
      "source": [
        "## Symbolic Koopman Lifting (CasADi)"
      ],
      "metadata": {
        "id": "LiHrXjN3JDAx"
      }
    },
    {
      "cell_type": "code",
      "source": [
        "import casadi as ca\n",
        "\n",
        "# consider an 18D state\n",
        "x = ca.SX.sym('x',18,1)\n",
        "print(x)"
      ],
      "metadata": {
        "colab": {
          "base_uri": "https://localhost:8080/"
        },
        "id": "OLY2YLycJJO3",
        "outputId": "71f97502-89b6-4f1e-b1ca-3474ad96e73e"
      },
      "execution_count": 23,
      "outputs": [
        {
          "output_type": "stream",
          "name": "stdout",
          "text": [
            "[x_0, x_1, x_2, x_3, x_4, x_5, x_6, x_7, x_8, x_9, x_10, x_11, x_12, x_13, x_14, x_15, x_16, x_17]\n"
          ]
        }
      ]
    },
    {
      "cell_type": "code",
      "source": [
        "# lifted Symbolic state\n",
        "X = koop.casadi_gen_koopman_states_se3(x)\n",
        "print(X.shape)"
      ],
      "metadata": {
        "colab": {
          "base_uri": "https://localhost:8080/"
        },
        "id": "6Eoe4nBYJhyZ",
        "outputId": "44797539-3eb9-45a5-9535-74e616a25a3b"
      },
      "execution_count": 24,
      "outputs": [
        {
          "output_type": "stream",
          "name": "stdout",
          "text": [
            "(45, 1)\n"
          ]
        }
      ]
    },
    {
      "cell_type": "code",
      "source": [
        "# Recovering original x\n",
        "x_reco = koop.casadi_se3_to_actual(X)\n",
        "print(x_reco.shape)"
      ],
      "metadata": {
        "colab": {
          "base_uri": "https://localhost:8080/"
        },
        "id": "cSZxEQerJuel",
        "outputId": "3d16ad81-247e-4b95-e7ce-ac56c94e79c8"
      },
      "execution_count": 26,
      "outputs": [
        {
          "output_type": "stream",
          "name": "stdout",
          "text": [
            "(18, 1)\n"
          ]
        }
      ]
    },
    {
      "cell_type": "code",
      "source": [
        "# Symbolic control input transformations\n",
        "u = ca.SX.sym('u',4,1)\n",
        "\n",
        "# lifted control input\n",
        "U = koop.casadi_u2U(x,u)\n",
        "print(U.shape)\n",
        "\n",
        "# recovering u from U\n",
        "u_reco = koop.casadi_U2u(x,U)\n",
        "print(u_reco.shape)\n",
        "\n",
        "# constructing modified u_tilde\n",
        "u_tilde = koop.casadi_u2u_tilde(x,u)\n",
        "print(u_tilde.shape)\n",
        "\n",
        "# Recovering u from u_tilde\n",
        "u_reco2 = koop.casadi_u_tilde2u(x,u_tilde)\n",
        "print(u_reco.shape)"
      ],
      "metadata": {
        "colab": {
          "base_uri": "https://localhost:8080/"
        },
        "id": "0D0W3ezUJ_nC",
        "outputId": "adf8db5a-ffbb-45e4-cfc0-32791495b4e9"
      },
      "execution_count": 28,
      "outputs": [
        {
          "output_type": "stream",
          "name": "stdout",
          "text": [
            "(28, 1)\n",
            "(4, 1)\n",
            "(4, 1)\n",
            "(4, 1)\n"
          ]
        }
      ]
    },
    {
      "cell_type": "code",
      "source": [
        "# Symbolic LPV B matrix (calB)\n",
        "\n",
        "calB_sym = koop.casadi_calB(x)\n",
        "print(calB_sym.shape)"
      ],
      "metadata": {
        "colab": {
          "base_uri": "https://localhost:8080/"
        },
        "id": "txsG60i0KtXN",
        "outputId": "1817751c-98ca-4881-83f0-5326d5a66734"
      },
      "execution_count": 29,
      "outputs": [
        {
          "output_type": "stream",
          "name": "stdout",
          "text": [
            "(45, 4)\n"
          ]
        }
      ]
    }
  ]
}